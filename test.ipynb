{
 "cells": [
  {
   "cell_type": "markdown",
   "metadata": {},
   "source": [
    "# RAM Concept Creep Factor <v0.1>\n",
    "\n",
    "## Introduction:\n",
    "\n",
    "This notebook aids in the calculation of the RAM Concept concrete creep factor. The RAM Concept creep factor defaults to a value of 3.35 based on recommendations in ACI 209.\n",
    "\n",
    "### Assumptions and Limitations:\n",
    "- Valid only for moist-cured slab elements with age at loading greater than 7 days."
   ]
  }
 ],
 "metadata": {
  "kernelspec": {
   "display_name": "Python 3",
   "language": "python",
   "name": "python3"
  },
  "language_info": {
   "codemirror_mode": {
    "name": "ipython",
    "version": 3
   },
   "file_extension": ".py",
   "mimetype": "text/x-python",
   "name": "python",
   "nbconvert_exporter": "python",
   "pygments_lexer": "ipython3",
   "version": "3.8.5"
  }
 },
 "nbformat": 4,
 "nbformat_minor": 4
}
