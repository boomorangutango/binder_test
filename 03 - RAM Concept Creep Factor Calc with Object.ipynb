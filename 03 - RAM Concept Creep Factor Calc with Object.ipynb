{
 "cells": [
  {
   "cell_type": "markdown",
   "metadata": {
    "extensions": {
     "jupyter_dashboards": {
      "version": 1,
      "views": {
       "grid_default": {
        "col": 0,
        "height": 14,
        "hidden": false,
        "row": 0,
        "width": null
       },
       "report_default": {
        "hidden": false
       }
      }
     }
    }
   },
   "source": [
    "# RAM Concept Creep Factor <v0.1>\n",
    "\n",
    "## Introduction:\n",
    "\n",
    "This notebook aids in the calculation of the RAM Concept concrete creep factor. The RAM Concept creep factor defaults to a value of 3.35 based on recommendations in ACI 209.\n",
    "\n",
    "### Assumptions and Limitations:\n",
    "- Valid only for moist-cured slab elements with age at loading greater than 7 days."
   ]
  },
  {
   "cell_type": "markdown",
   "metadata": {},
   "source": [
    "## Project Information:\n",
    "\n",
    "- **Company**: Structura\n",
    "- **Project No. and Name**: \n",
    "- **Date**: \n",
    "- **Prepared By**:\n",
    "- **Checked By**:"
   ]
  },
  {
   "cell_type": "markdown",
   "metadata": {},
   "source": [
    "## Inputs:\n",
    "- $t_0$ [days] = age of slab at application of loading. E.g. $t_0 = 14$ for 14 days.\n",
    "- $h$ [in] = slab depth.\n",
    "- $s$ [in] = concrete mix slump.\n",
    "- $psi$ [%] = $\\psi$, ratio of fine aggregate to total aggregate (typically about 40%, i.e. $\\psi = 40$).\n",
    "- $\\alpha$ [%] = $\\alpha$, air content. E.g. $\\alpha = 1.5$ for 1.5% air content.\n",
    "- $RH$ = average relative humidity. E.g. $RH = 0.7$ for 70%.\n",
    "\n",
    "Expected units are given with square brackets, '[  ]'."
   ]
  },
  {
   "cell_type": "code",
   "execution_count": 3,
   "metadata": {
    "extensions": {
     "jupyter_dashboards": {
      "version": 1,
      "views": {
       "grid_default": {
        "hidden": true
       },
       "report_default": {
        "hidden": false
       }
      }
     }
    },
    "scrolled": true
   },
   "outputs": [
    {
     "data": {
      "application/vnd.jupyter.widget-view+json": {
       "model_id": "c917dd47494849169abbd5562ca4a009",
       "version_major": 2,
       "version_minor": 0
      },
      "text/plain": [
       "FloatText(value=14.0, description='$t_0$ &nbsp <i>[days]</i>')"
      ]
     },
     "metadata": {},
     "output_type": "display_data"
    },
    {
     "data": {
      "application/vnd.jupyter.widget-view+json": {
       "model_id": "78f0328317b94cb99368505fd45c8560",
       "version_major": 2,
       "version_minor": 0
      },
      "text/plain": [
       "FloatText(value=8.0, description='$h$ &nbsp <i>[in]</i>')"
      ]
     },
     "metadata": {},
     "output_type": "display_data"
    },
    {
     "data": {
      "application/vnd.jupyter.widget-view+json": {
       "model_id": "46479aae7ef14962a54635ff6a3f23db",
       "version_major": 2,
       "version_minor": 0
      },
      "text/plain": [
       "FloatText(value=3.5, description='$s$ &nbsp <i>[in]</i>')"
      ]
     },
     "metadata": {},
     "output_type": "display_data"
    },
    {
     "data": {
      "application/vnd.jupyter.widget-view+json": {
       "model_id": "3fcf176a6cf34ce8b4a48e4ba2cd00de",
       "version_major": 2,
       "version_minor": 0
      },
      "text/plain": [
       "FloatText(value=40.0, description='$\\\\psi$ &nbsp <i>[%]</i>')"
      ]
     },
     "metadata": {},
     "output_type": "display_data"
    },
    {
     "data": {
      "application/vnd.jupyter.widget-view+json": {
       "model_id": "3ea58fd3f18e48febee5a06a131c80d5",
       "version_major": 2,
       "version_minor": 0
      },
      "text/plain": [
       "FloatText(value=1.5, description='$\\\\alpha$ &nbsp <i>[%]</i>')"
      ]
     },
     "metadata": {},
     "output_type": "display_data"
    },
    {
     "data": {
      "application/vnd.jupyter.widget-view+json": {
       "model_id": "29f7765417334efea6ab9d2e3962a4c6",
       "version_major": 2,
       "version_minor": 0
      },
      "text/plain": [
       "FloatText(value=0.7, description='$RH$ &nbsp <i>[u]</i>')"
      ]
     },
     "metadata": {},
     "output_type": "display_data"
    },
    {
     "data": {
      "application/vnd.jupyter.widget-view+json": {
       "model_id": "6fb9006f1400482a8416f1d8303a9210",
       "version_major": 2,
       "version_minor": 0
      },
      "text/plain": [
       "Button(description='Calc', style=ButtonStyle())"
      ]
     },
     "metadata": {},
     "output_type": "display_data"
    }
   ],
   "source": [
    "import ipywidgets as widgets\n",
    "from IPython.display import display\n",
    "import json\n",
    "\n",
    "class Creep_Factor(object):\n",
    "    \n",
    "    def __init__(self):\n",
    "        \n",
    "        self.t0 = 14\n",
    "        self.h = 8\n",
    "        self.s = 3.5\n",
    "        self.p = 40\n",
    "        self.a = 1.5\n",
    "        self.RH = 0.7\n",
    "\n",
    "        self.t0_wgt = widgets.FloatText(value=self.t0, description=r'$t_0$ &nbsp <i>[days]</i>', disabled=False)\n",
    "        self.h_wgt = widgets.FloatText(value=self.h, description=r'$h$ &nbsp <i>[in]</i>', disabled=False)\n",
    "        self.s_wgt = widgets.FloatText(value=self.s, description=r'$s$ &nbsp <i>[in]</i>', disabled=False)\n",
    "        self.p_wgt = widgets.FloatText(value=self.p, description=r'$\\psi$ &nbsp <i>[%]</i>', disabled=False)\n",
    "        self.a_wgt = widgets.FloatText(value=self.a, description=r'$\\alpha$ &nbsp <i>[%]</i>', disabled=False)\n",
    "        self.RH_wgt = widgets.FloatText(value=self.RH, description=r'$RH$ &nbsp <i>[u]</i>', disabled=False)\n",
    "        \n",
    "        self.calc_btn = widgets.Button(description='Calc')\n",
    "        self.calc_btn.on_click(self.recalc)\n",
    "        \n",
    "        self.save_btn = widgets.Button(description='Save')\n",
    "        self.save_btn.on_click(self.save)\n",
    "        \n",
    "        self.output_wgt = widgets.Output()\n",
    "        with self.output_wgt:\n",
    "            print('needs calc')\n",
    "                \n",
    "        self.data = {\n",
    "            'input': {\n",
    "                't0': self.t0,\n",
    "                'h': self.h,\n",
    "                's': self.s,\n",
    "                'p': self.p,\n",
    "                'a': self.a,\n",
    "                'RH': self.RH},\n",
    "            'output': {\n",
    "                'gamma_ct0': 'needs calc',\n",
    "                'gamma_ch': 'needs calc',\n",
    "                'gamma_cs': 'needs calc',\n",
    "                'gamma_cpsi': 'needs calc',\n",
    "                'gamma_calpha': 'needs calc',\n",
    "                'gamma_cRH': 'needs calc',\n",
    "                'gamma_c': 'needs calc',\n",
    "                'phi_u': 'needs calc',\n",
    "                'k_e': 'needs calc'}}\n",
    "\n",
    "    def recalc(self, b):\n",
    "        \n",
    "        self.output_wgt.clear_output()\n",
    "\n",
    "        self.t0 = self.t0_wgt.value\n",
    "        self.h = self.h_wgt.value\n",
    "        self.s = self.s_wgt.value\n",
    "        self.p = self.p_wgt.value\n",
    "        self.a = self.a_wgt.value\n",
    "        self.RH = self.RH_wgt.value\n",
    "\n",
    "        # Calculate the concrete creep factor.\n",
    "        self.gamma_ct0 = 1.25*self.t0**-0.118\n",
    "        self.gamma_ch = 1.10 - 0.017*self.h\n",
    "        self.gamma_cs = 0.82 + 0.067*self.s\n",
    "        self.gamma_cpsi = 0.88 + 0.0024*self.p\n",
    "        self.gamma_calpha = max(1, 0.46 + 0.09*self.a)\n",
    "        self.gamma_cRH = 1.27 - 0.67*self.RH\n",
    "        self.gamma_c = self.gamma_ct0*self.gamma_ch*self.gamma_cs*self.gamma_cpsi*self.gamma_calpha*self.gamma_cRH\n",
    "        self.phi_u = 2.35*self.gamma_c\n",
    "        self.k_e = self.phi_u + 1\n",
    "\n",
    "        # Save results.\n",
    "        self.data['input']['t0'] = self.t0\n",
    "        self.data['input']['h'] = self.h\n",
    "        self.data['input']['s'] = self.s\n",
    "        self.data['input']['p'] = self.p\n",
    "        self.data['input']['a'] = self.a\n",
    "        self.data['input']['RH'] = self.RH\n",
    "        self.data['output']['gamma_ct0'] = self.gamma_ct0\n",
    "        self.data['output']['gamma_ch'] = self.gamma_ch\n",
    "        self.data['output']['gamma_cs'] = self.gamma_cs\n",
    "        self.data['output']['gamma_cpsi'] = self.gamma_cpsi\n",
    "        self.data['output']['gamma_calpha'] = self.gamma_calpha\n",
    "        self.data['output']['gamma_cRH'] = self.gamma_cRH\n",
    "        self.data['output']['gamma_c'] = self.gamma_c\n",
    "        self.data['output']['phi_u'] = self.phi_u\n",
    "        self.data['output']['k_e'] = self.k_e\n",
    "            \n",
    "        with self.output_wgt:\n",
    "            display(widgets.HTMLMath(\n",
    "                rf\"\"\"\n",
    "                <h3> User Input </h3>\n",
    "                $t_0 = \\boldsymbol{{ {self.t0} }}$ days &nbsp; <i>(age at loading)</i> <br>\n",
    "                $h = \\boldsymbol{{ {self.h} }}$ in &nbsp; <i>(slab thickness)</i> <br>\n",
    "                $s = \\boldsymbol{{ {self.s} }}$ in &nbsp; <i>(slump)</i> <br>\n",
    "                $\\psi = \\boldsymbol{{ {self.p} }}$ % &nbsp; <i>(fine aggregate to toal aggregate)</i> <br>\n",
    "                $\\alpha = \\boldsymbol{{ {self.a} }}$ % &nbsp; <i>(air content)</i> <br>\n",
    "                $RH = \\boldsymbol{{ {self.RH} }}$ &nbsp; <i>(relative humidity)</i> <br>\n",
    "\n",
    "                <h3> Calculate Creep Factor </h3>\n",
    "                $\\gamma_{{c,t0}} = 1.25t_0^{{-0.118}} = \\boldsymbol{{ {self.gamma_ct0:.2f} }}$ &nbsp; <i>(age at loading factor)</i> <br>\n",
    "                $\\gamma_{{c,h}} = 1.10 - 0.017h = \\boldsymbol{{ {self.gamma_ch:.2f} }}$ &nbsp; <i>(thickness factor)</i> <br>\n",
    "                $\\gamma_{{c,s}} = 0.82 + 0.067s = \\boldsymbol{{ {self.gamma_cs:.2f} }}$ &nbsp; <i>(slump factor)</i> <br>\n",
    "                $\\gamma_{{c,\\psi}} = 0.88 + 0.0024\\psi = \\boldsymbol{{ {self.gamma_cpsi:.2f} }}$ &nbsp; <i>(fine aggregate to total aggregate factor)</i> <br>\n",
    "                $\\gamma_{{c,\\alpha}} = max(1, 0.46 + 0.09\\alpha) = \\boldsymbol{{ {self.gamma_calpha:.2f} }}$ &nbsp; <i>(air content factor)</i> <br>\n",
    "                $\\gamma_{{c,RH}} = 1.27 - 0.67RH = \\boldsymbol{{ {self.gamma_cRH:.2f} }}$ &nbsp; <i>(relative humidity factor)</i> <br>\n",
    "                $\\gamma_c = \\gamma_{{c,t0}}\\gamma_{{c,RH}}\\gamma_{{c,d}}\\gamma_{{c,s}}\\gamma_{{c,\\psi}}\\gamma_{{c,\\phi}}\\gamma_{{c,\\alpha}} = \\boldsymbol{{ {self.gamma_c:.2f} }}$ &nbsp; <i>(correction factor)</i>  <br>\n",
    "                    <blockquote>\n",
    "                    $\\phi_u = 2.35\\gamma_c = \\boldsymbol{{ {self.phi_u:.2f} }}$ &nbsp; <i>(creep coefficient)</i> <br>\n",
    "                        <blockquote>\n",
    "                        $k_{{e}} = \\phi_{{u}} + 1 = \\boldsymbol{{ {self.k_e:.2f} }}$ &nbsp; <i>(Concept creep factor)</i>\n",
    "                        </blockquote>\n",
    "                    </blockquote>\n",
    "                \"\"\"))\n",
    "\n",
    "    def save(self, b):\n",
    "\n",
    "        self.data = {\n",
    "            'input': {\n",
    "                't0': self.t0,\n",
    "                'h': self.h,\n",
    "                's': self.s,\n",
    "                'p': self.p,\n",
    "                'a': self.a,\n",
    "                'RH': self.RH},\n",
    "            'output': {\n",
    "                'gamma_ct0': self.gamma_ct0,\n",
    "                'gamma_ch': self.gamma_ch,\n",
    "                'gamma_cs': self.gamma_cs,\n",
    "                'gamma_cpsi': self.gamma_cpsi,\n",
    "                'gamma_calpha': self.gamma_calpha,\n",
    "                'gamma_cRH': self.gamma_cRH,\n",
    "                'gamma_c': self.gamma_c,\n",
    "                'phi_u': self.phi_u,\n",
    "                'k_e': self.k_e}}\n",
    "\n",
    "        with open('data.txt', 'w') as outfile:\n",
    "            json.dump(self.data, outfile)\n",
    "                \n",
    "cf = Creep_Factor()\n",
    "display(cf.t0_wgt, cf.h_wgt, cf.s_wgt, cf.p_wgt, cf.a_wgt, cf.RH_wgt)\n",
    "display(cf.calc_btn)"
   ]
  },
  {
   "cell_type": "markdown",
   "metadata": {
    "extensions": {
     "jupyter_dashboards": {
      "version": 1,
      "views": {
       "grid_default": {
        "col": 0,
        "height": 4,
        "hidden": false,
        "row": 33,
        "width": 4
       },
       "report_default": {
        "hidden": false
       }
      }
     }
    }
   },
   "source": [
    "## Results:"
   ]
  },
  {
   "cell_type": "code",
   "execution_count": 2,
   "metadata": {},
   "outputs": [
    {
     "data": {
      "application/vnd.jupyter.widget-view+json": {
       "model_id": "2139673be8f84b56aa17f570776f8487",
       "version_major": 2,
       "version_minor": 0
      },
      "text/plain": [
       "Output()"
      ]
     },
     "metadata": {},
     "output_type": "display_data"
    },
    {
     "data": {
      "application/vnd.jupyter.widget-view+json": {
       "model_id": "f970ea1ac5014aa4b926a318e6dd81e2",
       "version_major": 2,
       "version_minor": 0
      },
      "text/plain": [
       "Button(description='Save', style=ButtonStyle())"
      ]
     },
     "metadata": {},
     "output_type": "display_data"
    }
   ],
   "source": [
    "display(cf.output_wgt)"
   ]
  },
  {
   "cell_type": "markdown",
   "metadata": {},
   "source": [
    "## Save/Load:"
   ]
  },
  {
   "cell_type": "code",
   "execution_count": null,
   "metadata": {},
   "outputs": [],
   "source": [
    "display(cf.save_btn)"
   ]
  },
  {
   "cell_type": "markdown",
   "metadata": {
    "extensions": {
     "jupyter_dashboards": {
      "version": 1,
      "views": {
       "grid_default": {
        "col": 0,
        "height": 19,
        "hidden": false,
        "row": 14,
        "width": null
       },
       "report_default": {
        "hidden": false
       }
      }
     }
    }
   },
   "source": [
    "## Discussion:\n",
    "As noted in the RAM Concept manual, the creep coefficient ($\\phi_u$) is commonly defined as follows. \n",
    "> $\\phi_u = \\frac{\\epsilon_c}{\\epsilon_i}$, where\n",
    ">> $\\epsilon_c =$ creep strain, and <br>\n",
    ">> $\\epsilon_i = \\epsilon_e =$ initial (elastic) strain\n",
    "\n",
    "> $\\epsilon_f = \\epsilon_i + \\epsilon_c$, where\n",
    ">> $\\epsilon_f =$ total strain\n",
    "\n",
    "RAM Concept uses the factor $k_e$ to symbolize the \"concrete design creep factor\" and defined it as follows.\n",
    "> $k_e = \\frac{\\epsilon_f}{\\epsilon_e}$, where $\\epsilon_e = \\epsilon_i$\n",
    "\n",
    "Consequently, Concept uses \n",
    "> $k_e = \\frac{\\epsilon_i + \\epsilon_c}{\\epsilon_i} = 1 + \\frac{\\epsilon_c}{\\epsilon_i} = 1 + \\phi_u$\n",
    "\n",
    "Since 2.35 is suggested as average creep coefficient, $\\phi_u = 2.35$, Concept defaults to $k_e = 3.35$.\n",
    "\n",
    "Average relative humidity for different regions in the U.S. may be found the PCI Design Handbook.\n",
    "\n",
    "### References:\n",
    "\n",
    "1. ACI 209.2R-08 - Guide for Modeling and Calculating Shrinkage and Creep in Hardened Concrete, ACI, 2008.\n",
    "2. RAM Concept Manual, 2020.\n",
    "3. Prestressed Concrete Analysis and Design - Fundamentals (3rd Ed.), Antoine E. Naaman, 2012.\n",
    "\n",
    "### Change Log:\n",
    "- Created: Dec. 21, 2020 by SJ\n",
    "- Released:\n",
    "\n",
    "### Comments:\n",
    "- Where can each of the inputs be referenced? \n",
    "- How much difference does each factor make?\n",
    "- Can we get a chart of creep factors for common situations and for reference (controls)?"
   ]
  }
 ],
 "metadata": {
  "extensions": {
   "jupyter_dashboards": {
    "activeView": "report_default",
    "version": 1,
    "views": {
     "grid_default": {
      "cellMargin": 10,
      "defaultCellHeight": 20,
      "maxColumns": 12,
      "name": "grid",
      "type": "grid"
     },
     "report_default": {
      "name": "report",
      "type": "report"
     }
    }
   }
  },
  "kernelspec": {
   "display_name": "Python 3",
   "language": "python",
   "name": "python3"
  },
  "language_info": {
   "codemirror_mode": {
    "name": "ipython",
    "version": 3
   },
   "file_extension": ".py",
   "mimetype": "text/x-python",
   "name": "python",
   "nbconvert_exporter": "python",
   "pygments_lexer": "ipython3",
   "version": "3.8.5"
  }
 },
 "nbformat": 4,
 "nbformat_minor": 4
}
