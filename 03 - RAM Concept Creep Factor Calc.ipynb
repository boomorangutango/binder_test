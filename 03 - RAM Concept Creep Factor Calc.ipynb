{
 "cells": [
  {
   "cell_type": "markdown",
   "metadata": {
    "extensions": {
     "jupyter_dashboards": {
      "version": 1,
      "views": {
       "grid_default": {
        "col": 0,
        "height": 14,
        "hidden": false,
        "row": 0,
        "width": null
       },
       "report_default": {
        "hidden": false
       }
      }
     }
    }
   },
   "source": [
    "# RAM Concept Creep Factor\n",
    "\n",
    "The creep factor in RAM Concept (Criteria -> Calc Options) is set to a default value of 3.35. This value is derived from the recommended value of 2.35 from ACI 209. However, this factor may be refined by accounting for specific variables.\n",
    "\n",
    "## Limitations:\n",
    "- Valid only for moist-cured slab elements with age at loading greater than 7 days.\n",
    "\n",
    "## Input:\n",
    "- t0 [days] = age of slab at application of loading. E.g. $t_0 = 14$ for 14 days.\n",
    "- h [in] = slab depth.\n",
    "- s [in] = concrete mix slump.\n",
    "- p [%] = $\\psi$, ratio of fine aggregate to total aggregate (typically about 40%, i.e. $\\psi = 40$).\n",
    "- a [%] = $\\alpha$, air content. E.g. $\\alpha = 1.5$ for 1.5% air content.\n",
    "- RH = average relative humidity. E.g. $RH = 0.7$ for 70%.\n",
    "\n",
    "Expected units are given with square brackets, '[  ]'."
   ]
  },
  {
   "cell_type": "code",
   "execution_count": 3,
   "metadata": {
    "collapsed": true,
    "extensions": {
     "jupyter_dashboards": {
      "version": 1,
      "views": {
       "grid_default": {
        "hidden": true
       },
       "report_default": {
        "hidden": false
       }
      }
     }
    },
    "scrolled": true
   },
   "outputs": [],
   "source": [
    "t0 = 14\n",
    "h = 16\n",
    "s = 3.5\n",
    "p = 40\n",
    "a = 1.5\n",
    "RH = 0.7"
   ]
  },
  {
   "cell_type": "markdown",
   "metadata": {
    "extensions": {
     "jupyter_dashboards": {
      "version": 1,
      "views": {
       "grid_default": {
        "col": 0,
        "height": 4,
        "hidden": true,
        "row": 18,
        "width": 4
       },
       "report_default": {
        "hidden": true
       }
      }
     }
    }
   },
   "source": [
    "## Processing:"
   ]
  },
  {
   "cell_type": "code",
   "execution_count": 4,
   "metadata": {
    "extensions": {
     "jupyter_dashboards": {
      "version": 1,
      "views": {
       "grid_default": {
        "hidden": true
       },
       "report_default": {
        "hidden": true
       }
      }
     }
    },
    "scrolled": true
   },
   "outputs": [],
   "source": [
    "gamma_ct0 = 1.25*t0**-0.118\n",
    "gamma_ch = 1.10 - 0.017*h\n",
    "gamma_cs = 0.82 + 0.067*s\n",
    "gamma_cpsi = 0.88 + 0.0024*p\n",
    "gamma_calpha = max(1, 0.46 + 0.09*a)\n",
    "gamma_cRH = 1.27 - 0.67*RH\n",
    "gamma_c = gamma_ct0*gamma_ch*gamma_cs*gamma_cpsi*gamma_calpha*gamma_cRH\n",
    "phi_u = 2.35*gamma_c\n",
    "k_e = phi_u + 1"
   ]
  },
  {
   "cell_type": "markdown",
   "metadata": {
    "extensions": {
     "jupyter_dashboards": {
      "version": 1,
      "views": {
       "grid_default": {
        "col": 0,
        "height": 4,
        "hidden": false,
        "row": 33,
        "width": 4
       },
       "report_default": {
        "hidden": false
       }
      }
     }
    }
   },
   "source": [
    "## Output:"
   ]
  },
  {
   "cell_type": "code",
   "execution_count": 5,
   "metadata": {
    "extensions": {
     "jupyter_dashboards": {
      "version": 1,
      "views": {
       "grid_default": {
        "hidden": true
       },
       "report_default": {
        "hidden": false
       }
      }
     }
    },
    "scrolled": false
   },
   "outputs": [
    {
     "data": {
      "text/markdown": [
       "\n",
       "> $k_{e} = \\phi_{u} + 1 = \\boldsymbol{ 2.47 }$ *(Concept creep factor)*\n",
       ">> $\\phi_u = 2.35\\gamma_c = \\boldsymbol{ 1.47 }$ *(creep coefficient)* <br>\n",
       ">>> $\\gamma_c = \\gamma_{c,t0}\\gamma_{c,RH}\\gamma_{c,d}\\gamma_{c,s}\\gamma_{c,\\psi}\\gamma_{c,\\phi}\\gamma_{c,\\alpha} = \\\n",
       "\\boldsymbol{ 0.62 }$ *(correction factor)* <br>\n",
       "\n",
       ">>>> $\\gamma_{c,t0} = 1.25t_0^{-0.118} = \\boldsymbol{0.92}$ *(age at loading factor)* <br>\n",
       ">>>>> $t_0 = \\boldsymbol{ 14 }$ days *(age at loading)* <br>\n",
       "\n",
       ">>>> $\\gamma_{c,h} = 1.10 - 0.017h = \\boldsymbol{ 0.83 }$ *(thickness factor)* <br>\n",
       ">>>>> $h = \\boldsymbol{ 16 }$ in *(slab thickness)* <br>\n",
       "\n",
       ">>>> $\\gamma_{c,s} = 0.82 + 0.067s = \\boldsymbol{ 1.05 }$ *(slump factor)* <br>\n",
       ">>>>> $s = \\boldsymbol{ 3.5 }$ in *(slump)* <br>\n",
       "\n",
       ">>>> $\\gamma_{c,\\psi} = 0.88 + 0.0024\\psi = \\boldsymbol{ 0.98 }$ *(fine aggregate to total aggregate factor)* <br>\n",
       ">>>>> $\\psi = \\boldsymbol{ 40 }$ % *(fine aggregate to toal aggregate)* <br>\n",
       "\n",
       ">>>> $\\gamma_{c,\\alpha} = max(1, 0.46 + 0.09\\alpha) = \\boldsymbol{ 1.00 }$ *(air content factor)* <br>\n",
       ">>>>> $\\alpha = \\boldsymbol{ 1.5 }$ % *(air content)* <br>\n",
       "\n",
       ">>>> $\\gamma_{c,RH} = 1.27 - 0.67RH = \\boldsymbol{ 0.80 }$ *(relative humidity factor)* <br>\n",
       ">>>>> $RH = \\boldsymbol{ 0.7 }$ *(relative humidity)* <br>\n"
      ],
      "text/plain": [
       "<IPython.core.display.Markdown object>"
      ]
     },
     "metadata": {},
     "output_type": "display_data"
    }
   ],
   "source": [
    "from IPython.display import display, Math, Markdown, Latex\n",
    "\n",
    "display(Markdown(rf\"\"\"\n",
    "> $k_{{e}} = \\phi_{{u}} + 1 = \\boldsymbol{{ {k_e:.2f} }}$ *(Concept creep factor)*\n",
    ">> $\\phi_u = 2.35\\gamma_c = \\boldsymbol{{ {phi_u:.2f} }}$ *(creep coefficient)* <br>\n",
    ">>> $\\gamma_c = \\gamma_{{c,t0}}\\gamma_{{c,RH}}\\gamma_{{c,d}}\\gamma_{{c,s}}\\gamma_{{c,\\psi}}\\gamma_{{c,\\phi}}\\gamma_{{c,\\alpha}} = \\\n",
    "\\boldsymbol{{ {gamma_c:.2f} }}$ *(correction factor)* <br>\n",
    "\n",
    ">>>> $\\gamma_{{c,t0}} = 1.25t_0^{{-0.118}} = \\boldsymbol{{{gamma_ct0:.2f}}}$ *(age at loading factor)* <br>\n",
    ">>>>> $t_0 = \\boldsymbol{{ {t0} }}$ days *(age at loading)* <br>\n",
    "\n",
    ">>>> $\\gamma_{{c,h}} = 1.10 - 0.017h = \\boldsymbol{{ {gamma_ch:.2f} }}$ *(thickness factor)* <br>\n",
    ">>>>> $h = \\boldsymbol{{ {h} }}$ in *(slab thickness)* <br>\n",
    "\n",
    ">>>> $\\gamma_{{c,s}} = 0.82 + 0.067s = \\boldsymbol{{ {gamma_cs:.2f} }}$ *(slump factor)* <br>\n",
    ">>>>> $s = \\boldsymbol{{ {s} }}$ in *(slump)* <br>\n",
    "\n",
    ">>>> $\\gamma_{{c,\\psi}} = 0.88 + 0.0024\\psi = \\boldsymbol{{ {gamma_cpsi:.2f} }}$ *(fine aggregate to total aggregate factor)* <br>\n",
    ">>>>> $\\psi = \\boldsymbol{{ {p} }}$ % *(fine aggregate to toal aggregate)* <br>\n",
    "\n",
    ">>>> $\\gamma_{{c,\\alpha}} = max(1, 0.46 + 0.09\\alpha) = \\boldsymbol{{ {gamma_calpha:.2f} }}$ *(air content factor)* <br>\n",
    ">>>>> $\\alpha = \\boldsymbol{{ {a} }}$ % *(air content)* <br>\n",
    "\n",
    ">>>> $\\gamma_{{c,RH}} = 1.27 - 0.67RH = \\boldsymbol{{ {gamma_cRH:.2f} }}$ *(relative humidity factor)* <br>\n",
    ">>>>> $RH = \\boldsymbol{{ {RH} }}$ *(relative humidity)* <br>\n",
    "\"\"\"))\n"
   ]
  },
  {
   "cell_type": "markdown",
   "metadata": {
    "extensions": {
     "jupyter_dashboards": {
      "version": 1,
      "views": {
       "grid_default": {
        "col": 0,
        "height": 19,
        "hidden": false,
        "row": 14,
        "width": null
       },
       "report_default": {
        "hidden": false
       }
      }
     }
    }
   },
   "source": [
    "## Discussion:\n",
    "As noted in the RAM Concept manual, the creep coefficient ($\\phi_u$) is commonly defined as follows. \n",
    "> $\\phi_u = \\frac{\\epsilon_c}{\\epsilon_i}$, where\n",
    ">> $\\epsilon_c =$ creep strain, and <br>\n",
    ">> $\\epsilon_i = \\epsilon_e =$ initial (elastic) strain\n",
    "\n",
    "> $\\epsilon_f = \\epsilon_i + \\epsilon_c$, where\n",
    ">> $\\epsilon_f =$ total strain\n",
    "\n",
    "RAM Concept uses the factor $k_e$ to symbolize the \"concrete design creep factor\" and defined it as follows.\n",
    "> $k_e = \\frac{\\epsilon_f}{\\epsilon_e}$, where $\\epsilon_e = \\epsilon_i$\n",
    "\n",
    "Consequently, Concept uses \n",
    "> $k_e = \\frac{\\epsilon_i + \\epsilon_c}{\\epsilon_i} = 1 + \\frac{\\epsilon_c}{\\epsilon_i} = 1 + \\phi_u$\n",
    "\n",
    "Since 2.35 is suggested as average creep coefficient, $\\phi_u = 2.35$, Concept defaults to $k_e = 3.35$.\n",
    "\n",
    "Average relative humidity for different regions in the U.S. may be found the PCI Design Handbook.\n",
    "\n",
    "### Comments:\n",
    "- Where can each of the factors be found?\n",
    "- How much difference does each factor make?\n",
    "- Can we get a chart of creep factors for common situations and for reference (controls)?\n",
    "\n",
    "### Change Log:\n",
    "- Created on 12/21/20 by SJ\n",
    "- Released on xx/xx/xx"
   ]
  },
  {
   "cell_type": "code",
   "execution_count": null,
   "metadata": {
    "collapsed": true,
    "extensions": {
     "jupyter_dashboards": {
      "version": 1,
      "views": {
       "grid_default": {
        "hidden": true
       },
       "report_default": {
        "hidden": true
       }
      }
     }
    },
    "scrolled": true
   },
   "outputs": [],
   "source": []
  }
 ],
 "metadata": {
  "extensions": {
   "jupyter_dashboards": {
    "activeView": "report_default",
    "version": 1,
    "views": {
     "grid_default": {
      "cellMargin": 10,
      "defaultCellHeight": 20,
      "maxColumns": 12,
      "name": "grid",
      "type": "grid"
     },
     "report_default": {
      "name": "report",
      "type": "report"
     }
    }
   }
  },
  "kernelspec": {
   "display_name": "Python 3",
   "language": "python",
   "name": "python3"
  },
  "language_info": {
   "codemirror_mode": {
    "name": "ipython",
    "version": 3
   },
   "file_extension": ".py",
   "mimetype": "text/x-python",
   "name": "python",
   "nbconvert_exporter": "python",
   "pygments_lexer": "ipython3",
   "version": "3.6.3"
  }
 },
 "nbformat": 4,
 "nbformat_minor": 2
}
